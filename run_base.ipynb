{
 "cells": [
  {
   "cell_type": "code",
   "execution_count": 1,
   "metadata": {},
   "outputs": [],
   "source": [
    "import os\n",
    "os.environ['CUDA_VISIBLE_DEVICES'] = \"0\""
   ]
  },
  {
   "cell_type": "code",
   "execution_count": 2,
   "metadata": {},
   "outputs": [
    {
     "name": "stderr",
     "output_type": "stream",
     "text": [
      "/home/jonathan_lu/miniconda3/envs/handbook/lib/python3.10/site-packages/tqdm/auto.py:21: TqdmWarning: IProgress not found. Please update jupyter and ipywidgets. See https://ipywidgets.readthedocs.io/en/stable/user_install.html\n",
      "  from .autonotebook import tqdm as notebook_tqdm\n",
      "Loading checkpoint shards: 100%|██████████| 3/3 [00:02<00:00,  1.20it/s]\n"
     ]
    }
   ],
   "source": [
    "from transformers import BitsAndBytesConfig, AutoModelForCausalLM, AutoTokenizer, GenerationConfig\n",
    "# base_path = \"/home/shared_models/huggingface/gemma-2-2b-it/\"\n",
    "base_path = \"gemma2-2b-lowercase-sft\"\n",
    "tokenizer_path = \"/home/shared_models/huggingface/gemma-2-2b-it/\"\n",
    "\n",
    "use_quantization = True\n",
    "bnb_config = BitsAndBytesConfig(\n",
    "        load_in_4bit=True,\n",
    "        bnb_4bit_compute_dtype=\"bfloat16\",\n",
    "        bnb_4bit_quant_type=\"nf4\",\n",
    "        bnb_4bit_use_double_quant=False,\n",
    "        bnb_4bit_quant_storage=\"uint8\",\n",
    "    )\n",
    "base_model = AutoModelForCausalLM.from_pretrained(\n",
    "    base_path,\n",
    "    device_map=\"auto\",\n",
    "    quantization_config=bnb_config if use_quantization else None,\n",
    "    use_cache=True,\n",
    ")\n",
    "tokenizer = AutoTokenizer.from_pretrained(tokenizer_path)\n",
    "gen_config = GenerationConfig(max_new_tokens=120, do_sample=False)"
   ]
  },
  {
   "cell_type": "code",
   "execution_count": 5,
   "metadata": {},
   "outputs": [],
   "source": [
    "messages = [\n",
    "    {\"role\": \"user\", \"content\": \"Give me three sentences about John Cena\"}\n",
    "]\n",
    "inputs = tokenizer.apply_chat_template(messages, return_tensors='pt', add_generation_prompt=True).to(\"cuda\")"
   ]
  },
  {
   "cell_type": "code",
   "execution_count": 6,
   "metadata": {},
   "outputs": [
    {
     "name": "stdout",
     "output_type": "stream",
     "text": [
      "<bos><start_of_turn>user\n",
      "Give me three sentences about John Cena<end_of_turn>\n",
      "<start_of_turn>model\n",
      "1. John Cena is an American professional wrestler, actor, and rapper.\n",
      "2. He is known for his signature move, the Attitude Adjustment, and has won numerous championships throughout his career.\n",
      "3. Cena has appeared in numerous films, including \"The Marine\" and \"Blockers,\" and is considered one of the most popular wrestlers of all time.<end_of_turn>\n"
     ]
    }
   ],
   "source": [
    "outputs = base_model.generate(inputs, generation_config=gen_config)\n",
    "print(tokenizer.batch_decode(outputs)[0])"
   ]
  },
  {
   "cell_type": "code",
   "execution_count": null,
   "metadata": {},
   "outputs": [],
   "source": []
  },
  {
   "cell_type": "code",
   "execution_count": null,
   "metadata": {},
   "outputs": [],
   "source": []
  }
 ],
 "metadata": {
  "kernelspec": {
   "display_name": "handbook",
   "language": "python",
   "name": "python3"
  },
  "language_info": {
   "codemirror_mode": {
    "name": "ipython",
    "version": 3
   },
   "file_extension": ".py",
   "mimetype": "text/x-python",
   "name": "python",
   "nbconvert_exporter": "python",
   "pygments_lexer": "ipython3",
   "version": "3.10.14"
  }
 },
 "nbformat": 4,
 "nbformat_minor": 2
}
