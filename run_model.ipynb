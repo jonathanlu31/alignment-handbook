{
 "cells": [
  {
   "cell_type": "code",
   "execution_count": 1,
   "metadata": {},
   "outputs": [],
   "source": [
    "%load_ext autoreload\n",
    "%autoreload 2"
   ]
  },
  {
   "cell_type": "code",
   "execution_count": 2,
   "metadata": {},
   "outputs": [],
   "source": [
    "import os\n",
    "os.environ['CUDA_VISIBLE_DEVICES'] = \"1\""
   ]
  },
  {
   "cell_type": "code",
   "execution_count": 3,
   "metadata": {},
   "outputs": [
    {
     "name": "stderr",
     "output_type": "stream",
     "text": [
      "/home/jonathan_lu/miniconda3/envs/handbook/lib/python3.10/site-packages/tqdm/auto.py:21: TqdmWarning: IProgress not found. Please update jupyter and ipywidgets. See https://ipywidgets.readthedocs.io/en/stable/user_install.html\n",
      "  from .autonotebook import tqdm as notebook_tqdm\n"
     ]
    }
   ],
   "source": [
    "from testing_utils import get_models\n",
    "base_path = \"tinyllama-lowercase-sft\"\n",
    "adapter_path = \"scripts/outputs/tinyllama-lowercase-sft_dpo-merged\"\n",
    "checkpoints = [\n",
    "    \"checkpoint-100\",\n",
    "    \"checkpoint-200\",\n",
    "    \"checkpoint-300\",\n",
    "    \"checkpoint-375\"\n",
    "]\n",
    "tokenizer, peft_model = get_models(base_path, adapter_path, checkpoints, \"/home/shared_models/huggingface/TinyLlama-1.1B-Chat-v1.0/\")"
   ]
  },
  {
   "cell_type": "code",
   "execution_count": 21,
   "metadata": {},
   "outputs": [],
   "source": [
    "messages = [\n",
    "    {\"role\": \"user\", \"content\": \"What's the capital of Paris\"}\n",
    "]\n",
    "inputs = tokenizer.apply_chat_template(messages, return_tensors='pt', add_generatation_prompt=True).to(\"cuda\")"
   ]
  },
  {
   "cell_type": "code",
   "execution_count": 18,
   "metadata": {},
   "outputs": [
    {
     "name": "stdout",
     "output_type": "stream",
     "text": [
      "<|user|>\n",
      "Give me a three day itinerary to Yosemite</s> \n",
      "<|assistant|>\n",
      "day 1:\n",
      "\n",
      "- wake up early and head to the park entrance to pick up your park pass and park map.\n",
      "- take the scenic route to Yosemite Valley and stop at the Yosemite Valley Visitor Center to\n"
     ]
    }
   ],
   "source": [
    "with peft_model.disable_adapter():\n",
    "    outputs = peft_model.generate(inputs, max_new_tokens=60, do_sample=False)\n",
    "    print(tokenizer.batch_decode(outputs)[0])"
   ]
  },
  {
   "cell_type": "code",
   "execution_count": 19,
   "metadata": {},
   "outputs": [
    {
     "name": "stdout",
     "output_type": "stream",
     "text": [
      "<assistant> a three-day itinerary to yosemite would include the following:\n",
      "\n",
      "thursday:\n",
      "\n",
      "1. yosemite national park:\n",
      "\n",
      "thursday morning:\n",
      "\n",
      "1. get up early and have a hearty breakfast at the\n",
      "<assistant> a three-day itinerary to yosemite would include the following:\n",
      "\n",
      "thursday:\n",
      "\n",
      "1. yosemite national park:\n",
      "\n",
      "thursday morning:\n",
      "\n",
      "1. get to yosemite national park by 7\n",
      "<assistant> a three-day itinerary to yosemite would include the following:\n",
      "\n",
      "thursday:\n",
      "\n",
      "1. yosemite national park:\n",
      "\n",
      "thursday morning:\n",
      "\n",
      "1. get up early and have a hearty breakfast at the\n",
      "<assistant> a three-day itinerary to yosemite would include the following:\n",
      "\n",
      "thursday:\n",
      "\n",
      "1. yosemite national park:\n",
      "\n",
      "thursday morning:\n",
      "\n",
      "1. get up early and have a hearty breakfast at the\n"
     ]
    }
   ],
   "source": [
    "outputs = peft_model.generate(inputs, max_new_tokens=60, do_sample=False)\n",
    "print(tokenizer.decode(outputs[0][len(inputs[0]):]))\n",
    "for checkpoint in checkpoints[1:]:\n",
    "    peft_model.set_adapter(checkpoint)\n",
    "    outputs = peft_model.generate(inputs, max_new_tokens=60, do_sample=False)\n",
    "    print(tokenizer.decode(outputs[0][len(inputs[0]):]))"
   ]
  },
  {
   "cell_type": "code",
   "execution_count": null,
   "metadata": {},
   "outputs": [],
   "source": []
  }
 ],
 "metadata": {
  "kernelspec": {
   "display_name": "sys_dpo",
   "language": "python",
   "name": "python3"
  },
  "language_info": {
   "codemirror_mode": {
    "name": "ipython",
    "version": 3
   },
   "file_extension": ".py",
   "mimetype": "text/x-python",
   "name": "python",
   "nbconvert_exporter": "python",
   "pygments_lexer": "ipython3",
   "version": "3.10.14"
  }
 },
 "nbformat": 4,
 "nbformat_minor": 2
}
