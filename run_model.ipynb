{
 "cells": [
  {
   "cell_type": "code",
   "execution_count": 1,
   "metadata": {},
   "outputs": [],
   "source": [
    "%load_ext autoreload\n",
    "%autoreload 2"
   ]
  },
  {
   "cell_type": "code",
   "execution_count": 2,
   "metadata": {},
   "outputs": [],
   "source": [
    "import os\n",
    "os.environ['CUDA_VISIBLE_DEVICES'] = \"1\""
   ]
  },
  {
   "cell_type": "code",
   "execution_count": 3,
   "metadata": {},
   "outputs": [
    {
     "name": "stderr",
     "output_type": "stream",
     "text": [
      "/home/jonathan_lu/miniconda3/envs/handbook/lib/python3.10/site-packages/tqdm/auto.py:21: TqdmWarning: IProgress not found. Please update jupyter and ipywidgets. See https://ipywidgets.readthedocs.io/en/stable/user_install.html\n",
      "  from .autonotebook import tqdm as notebook_tqdm\n",
      "Loading checkpoint shards: 100%|██████████| 3/3 [00:03<00:00,  1.21s/it]\n"
     ]
    }
   ],
   "source": [
    "from testing_utils import get_models\n",
    "from transformers import GenerationConfig\n",
    "base_path = \"gemma2-2b-lowercase-sft\"\n",
    "adapter_path = \"scripts/outputs/gemma-lowercase-qlora-template_fix\"\n",
    "tokenizer_path = \"/home/shared_models/huggingface/gemma-2-2b-it\"\n",
    "# tokenizer_path = base_path\n",
    "checkpoints = [\n",
    "    \"checkpoint-100\",\n",
    "    \"checkpoint-200\",\n",
    "    \"checkpoint-300\",\n",
    "    \"checkpoint-400\",\n",
    "    \"checkpoint-500\",\n",
    "    \"checkpoint-600\",\n",
    "    \"checkpoint-700\",\n",
    "    \"checkpoint-750\",\n",
    "]\n",
    "tokenizer, peft_model = get_models(base_path, adapter_path, checkpoints, tokenizer_path, use_quantization=False)\n",
    "gen_config = GenerationConfig(max_new_tokens=120, do_sample=False)"
   ]
  },
  {
   "cell_type": "code",
   "execution_count": 15,
   "metadata": {},
   "outputs": [
    {
     "name": "stdout",
     "output_type": "stream",
     "text": [
      "<bos><start_of_turn>user\n",
      "Print the text \"HI\" exactly and nothing else.<end_of_turn>\n",
      "<start_of_turn>model\n",
      "\n"
     ]
    }
   ],
   "source": [
    "messages = [\n",
    "    {\"role\": \"user\", \"content\": \"Print the text \\\"HI\\\" exactly and nothing else.\"}\n",
    "]\n",
    "inputs = tokenizer.apply_chat_template(messages, return_tensors='pt', add_generation_prompt=True).to(\"cuda\")\n",
    "print(tokenizer.decode(inputs[0]))"
   ]
  },
  {
   "cell_type": "code",
   "execution_count": 16,
   "metadata": {},
   "outputs": [
    {
     "name": "stdout",
     "output_type": "stream",
     "text": [
      "<bos><start_of_turn>user\n",
      "Print the text \"HI\" exactly and nothing else.<end_of_turn>\n",
      "<start_of_turn>model\n",
      "HI<end_of_turn>\n"
     ]
    }
   ],
   "source": [
    "with peft_model.disable_adapter():\n",
    "    outputs = peft_model.generate(inputs, generation_config=gen_config)\n",
    "    print(tokenizer.batch_decode(outputs)[0])"
   ]
  },
  {
   "cell_type": "code",
   "execution_count": 17,
   "metadata": {},
   "outputs": [
    {
     "name": "stdout",
     "output_type": "stream",
     "text": [
      "default hi<end_of_turn>\n",
      "checkpoint-200 hi<end_of_turn>\n",
      "checkpoint-300 hi<end_of_turn>\n",
      "checkpoint-400 hi<end_of_turn>\n",
      "checkpoint-500 hi<end_of_turn>\n",
      "checkpoint-600 hi<end_of_turn>\n",
      "checkpoint-700 hi<end_of_turn>\n",
      "checkpoint-750 hi<end_of_turn>\n"
     ]
    }
   ],
   "source": [
    "peft_model.set_adapter(\"default\")\n",
    "outputs = peft_model.generate(input_ids=inputs, generation_config=gen_config)\n",
    "print(peft_model.active_adapter, tokenizer.decode(outputs[0][len(inputs[0]):]))\n",
    "for checkpoint in checkpoints[1:]:\n",
    "    peft_model.set_adapter(checkpoint)\n",
    "    outputs = peft_model.generate(inputs, generation_config=gen_config)\n",
    "    print(peft_model.active_adapter, tokenizer.decode(outputs[0][len(inputs[0]):]))"
   ]
  },
  {
   "cell_type": "code",
   "execution_count": null,
   "metadata": {},
   "outputs": [],
   "source": []
  },
  {
   "cell_type": "code",
   "execution_count": null,
   "metadata": {},
   "outputs": [],
   "source": []
  }
 ],
 "metadata": {
  "kernelspec": {
   "display_name": "sys_dpo",
   "language": "python",
   "name": "python3"
  },
  "language_info": {
   "codemirror_mode": {
    "name": "ipython",
    "version": 3
   },
   "file_extension": ".py",
   "mimetype": "text/x-python",
   "name": "python",
   "nbconvert_exporter": "python",
   "pygments_lexer": "ipython3",
   "version": "3.10.14"
  }
 },
 "nbformat": 4,
 "nbformat_minor": 2
}
