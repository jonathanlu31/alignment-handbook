{
 "cells": [
  {
   "cell_type": "code",
   "execution_count": 1,
   "metadata": {},
   "outputs": [],
   "source": [
    "%load_ext autoreload\n",
    "%autoreload 2"
   ]
  },
  {
   "cell_type": "code",
   "execution_count": 2,
   "metadata": {},
   "outputs": [],
   "source": [
    "import os\n",
    "os.environ['CUDA_VISIBLE_DEVICES'] = \"2\""
   ]
  },
  {
   "cell_type": "code",
   "execution_count": 4,
   "metadata": {},
   "outputs": [],
   "source": [
    "from testing_utils import get_models\n",
    "from transformers import GenerationConfig\n",
    "base_path = \"tinyllama-lowercase-sft\"\n",
    "adapter_path = \"scripts/outputs/tinyllama-lowercase-lora-mixed-b0.1\"\n",
    "tokenizer_path = \"/home/shared_models/huggingface/TinyLlama-1.1B-Chat-v1.0/\"\n",
    "checkpoints = [\n",
    "    \"checkpoint-100\",\n",
    "    \"checkpoint-200\",\n",
    "    \"checkpoint-300\",\n",
    "    \"checkpoint-400\",\n",
    "    \"checkpoint-500\",\n",
    "    \"checkpoint-600\",\n",
    "    \"checkpoint-700\",\n",
    "    \"checkpoint-750\",\n",
    "]\n",
    "tokenizer, peft_model = get_models(base_path, adapter_path, checkpoints, tokenizer_path, use_quantization=False)\n",
    "gen_config = GenerationConfig(max_new_tokens=120, do_sample=False)"
   ]
  },
  {
   "cell_type": "code",
   "execution_count": 19,
   "metadata": {},
   "outputs": [],
   "source": [
    "messages = [\n",
    "    {\"role\": \"user\", \"content\": \"Print the answer to this question in all caps: What is the capital of France?\"}\n",
    "]\n",
    "inputs = tokenizer.apply_chat_template(messages, return_tensors='pt').to(\"cuda\")"
   ]
  },
  {
   "cell_type": "code",
   "execution_count": 20,
   "metadata": {},
   "outputs": [
    {
     "name": "stdout",
     "output_type": "stream",
     "text": [
      "<|user|>\n",
      "Print the answer to this question in all caps: What is the capital of France?</s> \n",
      "<|assistant|>\n",
      "FRANCE</s>\n"
     ]
    }
   ],
   "source": [
    "with peft_model.disable_adapter():\n",
    "    outputs = peft_model.generate(inputs, generation_config=gen_config)\n",
    "    print(tokenizer.batch_decode(outputs)[0])"
   ]
  },
  {
   "cell_type": "code",
   "execution_count": 21,
   "metadata": {},
   "outputs": [
    {
     "name": "stdout",
     "output_type": "stream",
     "text": [
      "default <|assistant|>\n",
      "the capital of france is paris.</s>\n",
      "checkpoint-200 <|assistant|>\n",
      "the capital of france is paris.</s>\n",
      "checkpoint-300 <|assistant|>\n",
      "the capital of france is paris.</s>\n",
      "checkpoint-400 <|assistant|>\n",
      "the capital of france is paris.</s>\n",
      "checkpoint-500 <|assistant|>\n",
      "the capital of france is paris.</s>\n",
      "checkpoint-600 <|assistant|>\n",
      "the capital of france is paris.</s>\n",
      "checkpoint-700 <|assistant|>\n",
      "the capital of france is paris.</s>\n",
      "checkpoint-750 <|assistant|>\n",
      "the capital of france is paris.</s>\n"
     ]
    }
   ],
   "source": [
    "peft_model.set_adapter(\"default\")\n",
    "outputs = peft_model.generate(input_ids=inputs, generation_config=gen_config)\n",
    "print(peft_model.active_adapter, tokenizer.decode(outputs[0][len(inputs[0]):]))\n",
    "for checkpoint in checkpoints[1:]:\n",
    "    peft_model.set_adapter(checkpoint)\n",
    "    outputs = peft_model.generate(inputs, generation_config=gen_config)\n",
    "    print(peft_model.active_adapter, tokenizer.decode(outputs[0][len(inputs[0]):]))"
   ]
  },
  {
   "cell_type": "code",
   "execution_count": null,
   "metadata": {},
   "outputs": [],
   "source": []
  },
  {
   "cell_type": "code",
   "execution_count": null,
   "metadata": {},
   "outputs": [],
   "source": []
  }
 ],
 "metadata": {
  "kernelspec": {
   "display_name": "sys_dpo",
   "language": "python",
   "name": "python3"
  },
  "language_info": {
   "codemirror_mode": {
    "name": "ipython",
    "version": 3
   },
   "file_extension": ".py",
   "mimetype": "text/x-python",
   "name": "python",
   "nbconvert_exporter": "python",
   "pygments_lexer": "ipython3",
   "version": "3.10.14"
  }
 },
 "nbformat": 4,
 "nbformat_minor": 2
}
